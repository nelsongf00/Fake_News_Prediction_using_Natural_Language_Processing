{
 "cells": [
  {
   "cell_type": "code",
   "execution_count": 84,
   "id": "91c2385b",
   "metadata": {},
   "outputs": [],
   "source": [
    "import pandas as pd\n",
    "import numpy as np\n",
    "import seaborn as sns"
   ]
  },
  {
   "cell_type": "code",
   "execution_count": 85,
   "id": "cfc555be",
   "metadata": {},
   "outputs": [],
   "source": [
    "df =pd.read_csv(\"train.csv\")\n",
    "df.drop(\"id\",axis=1,inplace = True)"
   ]
  },
  {
   "cell_type": "code",
   "execution_count": 86,
   "id": "4b026564",
   "metadata": {},
   "outputs": [
    {
     "data": {
      "text/html": [
       "<div>\n",
       "<style scoped>\n",
       "    .dataframe tbody tr th:only-of-type {\n",
       "        vertical-align: middle;\n",
       "    }\n",
       "\n",
       "    .dataframe tbody tr th {\n",
       "        vertical-align: top;\n",
       "    }\n",
       "\n",
       "    .dataframe thead th {\n",
       "        text-align: right;\n",
       "    }\n",
       "</style>\n",
       "<table border=\"1\" class=\"dataframe\">\n",
       "  <thead>\n",
       "    <tr style=\"text-align: right;\">\n",
       "      <th></th>\n",
       "      <th>title</th>\n",
       "      <th>author</th>\n",
       "      <th>text</th>\n",
       "      <th>label</th>\n",
       "    </tr>\n",
       "  </thead>\n",
       "  <tbody>\n",
       "    <tr>\n",
       "      <th>0</th>\n",
       "      <td>House Dem Aide: We Didn’t Even See Comey’s Let...</td>\n",
       "      <td>Darrell Lucus</td>\n",
       "      <td>House Dem Aide: We Didn’t Even See Comey’s Let...</td>\n",
       "      <td>1</td>\n",
       "    </tr>\n",
       "    <tr>\n",
       "      <th>1</th>\n",
       "      <td>Why the Truth Might Get You Fired</td>\n",
       "      <td>Consortiumnews.com</td>\n",
       "      <td>Why the Truth Might Get You Fired October 29, ...</td>\n",
       "      <td>1</td>\n",
       "    </tr>\n",
       "    <tr>\n",
       "      <th>2</th>\n",
       "      <td>15 Civilians Killed In Single US Airstrike Hav...</td>\n",
       "      <td>Jessica Purkiss</td>\n",
       "      <td>Videos 15 Civilians Killed In Single US Airstr...</td>\n",
       "      <td>1</td>\n",
       "    </tr>\n",
       "    <tr>\n",
       "      <th>3</th>\n",
       "      <td>Iranian woman jailed for fictional unpublished...</td>\n",
       "      <td>Howard Portnoy</td>\n",
       "      <td>Print \\nAn Iranian woman has been sentenced to...</td>\n",
       "      <td>1</td>\n",
       "    </tr>\n",
       "    <tr>\n",
       "      <th>4</th>\n",
       "      <td>Russian Researchers Discover Secret Nazi Milit...</td>\n",
       "      <td>Amando Flavio</td>\n",
       "      <td>The mystery surrounding The Third Reich and Na...</td>\n",
       "      <td>1</td>\n",
       "    </tr>\n",
       "  </tbody>\n",
       "</table>\n",
       "</div>"
      ],
      "text/plain": [
       "                                               title              author  \\\n",
       "0  House Dem Aide: We Didn’t Even See Comey’s Let...       Darrell Lucus   \n",
       "1                  Why the Truth Might Get You Fired  Consortiumnews.com   \n",
       "2  15 Civilians Killed In Single US Airstrike Hav...     Jessica Purkiss   \n",
       "3  Iranian woman jailed for fictional unpublished...      Howard Portnoy   \n",
       "4  Russian Researchers Discover Secret Nazi Milit...       Amando Flavio   \n",
       "\n",
       "                                                text  label  \n",
       "0  House Dem Aide: We Didn’t Even See Comey’s Let...      1  \n",
       "1  Why the Truth Might Get You Fired October 29, ...      1  \n",
       "2  Videos 15 Civilians Killed In Single US Airstr...      1  \n",
       "3  Print \\nAn Iranian woman has been sentenced to...      1  \n",
       "4  The mystery surrounding The Third Reich and Na...      1  "
      ]
     },
     "execution_count": 86,
     "metadata": {},
     "output_type": "execute_result"
    }
   ],
   "source": [
    "df.head()"
   ]
  },
  {
   "cell_type": "code",
   "execution_count": 87,
   "id": "51884a15",
   "metadata": {},
   "outputs": [
    {
     "name": "stdout",
     "output_type": "stream",
     "text": [
      "Our Dataset has 17181 rows and 4 columns\n"
     ]
    }
   ],
   "source": [
    "print(f\"Our Dataset has {df.shape[0]} rows and {df.shape[1]} columns\")"
   ]
  },
  {
   "cell_type": "markdown",
   "id": "82819f1b",
   "metadata": {},
   "source": [
    "# Checking Null Values"
   ]
  },
  {
   "cell_type": "code",
   "execution_count": 89,
   "id": "54434188",
   "metadata": {},
   "outputs": [
    {
     "data": {
      "text/plain": [
       "title     0\n",
       "author    0\n",
       "text      0\n",
       "label     0\n",
       "dtype: int64"
      ]
     },
     "execution_count": 89,
     "metadata": {},
     "output_type": "execute_result"
    }
   ],
   "source": [
    "df.isnull().sum()"
   ]
  },
  {
   "cell_type": "markdown",
   "id": "59285561",
   "metadata": {},
   "source": [
    "# Dropping Null Values"
   ]
  },
  {
   "cell_type": "code",
   "execution_count": 90,
   "id": "3ba4347f",
   "metadata": {},
   "outputs": [],
   "source": [
    "df = df.dropna()"
   ]
  },
  {
   "cell_type": "code",
   "execution_count": 91,
   "id": "d99cfeaa",
   "metadata": {},
   "outputs": [
    {
     "name": "stdout",
     "output_type": "stream",
     "text": [
      "After dropping null values our Dataset now has 17181 rows and 4 columns\n"
     ]
    }
   ],
   "source": [
    "print(f\"After dropping null values our Dataset now has {df.shape[0]} rows and {df.shape[1]} columns\")"
   ]
  },
  {
   "cell_type": "markdown",
   "id": "a6ec63eb",
   "metadata": {},
   "source": [
    "# Checking if there is \"white space\" in our \"text\" column instead of text"
   ]
  },
  {
   "cell_type": "code",
   "execution_count": 92,
   "id": "33e3b703",
   "metadata": {},
   "outputs": [
    {
     "data": {
      "text/html": [
       "<div>\n",
       "<style scoped>\n",
       "    .dataframe tbody tr th:only-of-type {\n",
       "        vertical-align: middle;\n",
       "    }\n",
       "\n",
       "    .dataframe tbody tr th {\n",
       "        vertical-align: top;\n",
       "    }\n",
       "\n",
       "    .dataframe thead th {\n",
       "        text-align: right;\n",
       "    }\n",
       "</style>\n",
       "<table border=\"1\" class=\"dataframe\">\n",
       "  <thead>\n",
       "    <tr style=\"text-align: right;\">\n",
       "      <th></th>\n",
       "      <th>title</th>\n",
       "      <th>author</th>\n",
       "      <th>text</th>\n",
       "      <th>label</th>\n",
       "    </tr>\n",
       "  </thead>\n",
       "  <tbody>\n",
       "  </tbody>\n",
       "</table>\n",
       "</div>"
      ],
      "text/plain": [
       "Empty DataFrame\n",
       "Columns: [title, author, text, label]\n",
       "Index: []"
      ]
     },
     "execution_count": 92,
     "metadata": {},
     "output_type": "execute_result"
    }
   ],
   "source": [
    "df[df[\"text\"].str.isspace()]"
   ]
  },
  {
   "cell_type": "code",
   "execution_count": 93,
   "id": "92dba49e",
   "metadata": {},
   "outputs": [],
   "source": [
    "# We will find the \"white space\" using the pandas DataFrame.str.isspace() method. The \"~\" notation means just the opposite values"
   ]
  },
  {
   "cell_type": "code",
   "execution_count": 94,
   "id": "a23587d6",
   "metadata": {},
   "outputs": [],
   "source": [
    "df = df[~df[\"text\"].str.isspace()]"
   ]
  },
  {
   "cell_type": "code",
   "execution_count": 95,
   "id": "64e9e3c4",
   "metadata": {},
   "outputs": [
    {
     "data": {
      "text/plain": [
       "0"
      ]
     },
     "execution_count": 95,
     "metadata": {},
     "output_type": "execute_result"
    }
   ],
   "source": [
    "df[\"text\"].apply(lambda x:x==\"\").sum()"
   ]
  },
  {
   "cell_type": "code",
   "execution_count": 96,
   "id": "156b3785",
   "metadata": {},
   "outputs": [
    {
     "data": {
      "text/html": [
       "<div>\n",
       "<style scoped>\n",
       "    .dataframe tbody tr th:only-of-type {\n",
       "        vertical-align: middle;\n",
       "    }\n",
       "\n",
       "    .dataframe tbody tr th {\n",
       "        vertical-align: top;\n",
       "    }\n",
       "\n",
       "    .dataframe thead th {\n",
       "        text-align: right;\n",
       "    }\n",
       "</style>\n",
       "<table border=\"1\" class=\"dataframe\">\n",
       "  <thead>\n",
       "    <tr style=\"text-align: right;\">\n",
       "      <th></th>\n",
       "      <th>title</th>\n",
       "      <th>author</th>\n",
       "      <th>text</th>\n",
       "      <th>label</th>\n",
       "    </tr>\n",
       "  </thead>\n",
       "  <tbody>\n",
       "  </tbody>\n",
       "</table>\n",
       "</div>"
      ],
      "text/plain": [
       "Empty DataFrame\n",
       "Columns: [title, author, text, label]\n",
       "Index: []"
      ]
     },
     "execution_count": 96,
     "metadata": {},
     "output_type": "execute_result"
    }
   ],
   "source": [
    "df[df[\"title\"].str.isspace()]"
   ]
  },
  {
   "cell_type": "markdown",
   "id": "b690fbff",
   "metadata": {},
   "source": [
    "# Taking a look at our final DataSet after feature engineering "
   ]
  },
  {
   "cell_type": "code",
   "execution_count": 98,
   "id": "336f5b38",
   "metadata": {},
   "outputs": [
    {
     "name": "stdout",
     "output_type": "stream",
     "text": [
      "<class 'pandas.core.frame.DataFrame'>\n",
      "Int64Index: 17181 entries, 0 to 17180\n",
      "Data columns (total 4 columns):\n",
      " #   Column  Non-Null Count  Dtype \n",
      "---  ------  --------------  ----- \n",
      " 0   title   17181 non-null  object\n",
      " 1   author  17181 non-null  object\n",
      " 2   text    17181 non-null  object\n",
      " 3   label   17181 non-null  int64 \n",
      "dtypes: int64(1), object(3)\n",
      "memory usage: 671.1+ KB\n"
     ]
    }
   ],
   "source": [
    "df.info()"
   ]
  },
  {
   "cell_type": "markdown",
   "id": "bf7991a0",
   "metadata": {},
   "source": [
    "# Top 20 words used that are catagoried as 'Fake News\""
   ]
  },
  {
   "cell_type": "code",
   "execution_count": 99,
   "id": "7658928e",
   "metadata": {},
   "outputs": [
    {
     "name": "stdout",
     "output_type": "stream",
     "text": [
      "[('said', 60818), ('mr', 57816), ('trump', 31567), ('new', 17373), ('people', 17366), ('president', 14937), ('like', 13830), ('ms', 11222), ('time', 10336), ('state', 10180), ('just', 10006), ('years', 9888), ('states', 9735), ('year', 9087), ('united', 8988), ('news', 8282), ('did', 8088), ('american', 7943), ('government', 7723), ('house', 7362)]\n"
     ]
    }
   ],
   "source": [
    "from sklearn.feature_extraction.text import CountVectorizer\n",
    "count_vect = CountVectorizer(stop_words =\"english\")\n",
    "matrix =count_vect.fit_transform(df[df[\"label\"]==0][\"text\"])\n",
    "frequency = zip(count_vect.get_feature_names(),matrix.sum(axis =0).tolist()[0])\n",
    "print(sorted(frequency,key =lambda x:-x[1])[:20])"
   ]
  },
  {
   "cell_type": "markdown",
   "id": "b1591b91",
   "metadata": {},
   "source": [
    "# Top 20 words used that are catagoried as 'Real News\""
   ]
  },
  {
   "cell_type": "code",
   "execution_count": 100,
   "id": "e6b8af00",
   "metadata": {},
   "outputs": [
    {
     "name": "stdout",
     "output_type": "stream",
     "text": [
      "[('trump', 16653), ('clinton', 16017), ('people', 12705), ('hillary', 10696), ('said', 9045), ('new', 8248), ('like', 7986), ('just', 7942), ('time', 7283), ('world', 7273), ('2016', 6948), ('state', 6946), ('election', 6811), ('president', 6650), ('government', 6425), ('obama', 6225), ('war', 6000), ('american', 5679), ('media', 5347), ('states', 5128)]\n"
     ]
    }
   ],
   "source": [
    "from sklearn.feature_extraction.text import CountVectorizer\n",
    "count_vect = CountVectorizer(stop_words =\"english\")\n",
    "matrix =count_vect.fit_transform(df[df[\"label\"]==1][\"text\"])\n",
    "frequency = zip(count_vect.get_feature_names(),matrix.sum(axis =0).tolist()[0])\n",
    "print(sorted(frequency,key =lambda x:-x[1])[:20])"
   ]
  },
  {
   "cell_type": "markdown",
   "id": "d10a064a",
   "metadata": {},
   "source": [
    "# Taking our \"feature column\" and \"Label Column\""
   ]
  },
  {
   "cell_type": "code",
   "execution_count": 101,
   "id": "054d26a8",
   "metadata": {},
   "outputs": [],
   "source": [
    "X = df[\"text\"]\n",
    "y = df[\"label\"]"
   ]
  },
  {
   "cell_type": "code",
   "execution_count": 102,
   "id": "503641b4",
   "metadata": {},
   "outputs": [],
   "source": [
    "from sklearn.model_selection import train_test_split"
   ]
  },
  {
   "cell_type": "markdown",
   "id": "d6e1440e",
   "metadata": {},
   "source": [
    "# Splitting our data for training and testing the models"
   ]
  },
  {
   "cell_type": "code",
   "execution_count": 103,
   "id": "297feaaf",
   "metadata": {},
   "outputs": [],
   "source": [
    "X_train, X_test, y_train, y_test = train_test_split(X, y, test_size=0.2,random_state=42)"
   ]
  },
  {
   "cell_type": "code",
   "execution_count": 104,
   "id": "803f123c",
   "metadata": {},
   "outputs": [],
   "source": [
    "from sklearn.pipeline import Pipeline\n",
    "from sklearn.feature_extraction.text import TfidfVectorizer\n",
    "from sklearn.svm import LinearSVC\n",
    "from sklearn.naive_bayes import MultinomialNB"
   ]
  },
  {
   "cell_type": "markdown",
   "id": "a78f316a",
   "metadata": {},
   "source": [
    "# Creating a PipeLine to first vectorize then apply machine learning model  "
   ]
  },
  {
   "cell_type": "markdown",
   "id": "a93d23e4",
   "metadata": {},
   "source": [
    "### Model_1: Support Vector Classifier"
   ]
  },
  {
   "cell_type": "code",
   "execution_count": 105,
   "id": "4f785bbb",
   "metadata": {},
   "outputs": [],
   "source": [
    "pipe = Pipeline([(\"tfidf\",TfidfVectorizer(stop_words=\"english\")),(\"svc\",LinearSVC())])"
   ]
  },
  {
   "cell_type": "code",
   "execution_count": 106,
   "id": "69e3668a",
   "metadata": {
    "scrolled": true
   },
   "outputs": [
    {
     "data": {
      "text/plain": [
       "Pipeline(steps=[('tfidf', TfidfVectorizer(stop_words='english')),\n",
       "                ('svc', LinearSVC())])"
      ]
     },
     "execution_count": 106,
     "metadata": {},
     "output_type": "execute_result"
    }
   ],
   "source": [
    "pipe.fit(X_train,y_train)"
   ]
  },
  {
   "cell_type": "markdown",
   "id": "ace6d7a9",
   "metadata": {},
   "source": [
    "# Finding our predictions and error metrics"
   ]
  },
  {
   "cell_type": "code",
   "execution_count": 107,
   "id": "06842a7d",
   "metadata": {},
   "outputs": [],
   "source": [
    "from sklearn.metrics import classification_report,plot_confusion_matrix"
   ]
  },
  {
   "cell_type": "code",
   "execution_count": 108,
   "id": "9bdbca82",
   "metadata": {},
   "outputs": [],
   "source": [
    "y_preds = pipe.predict(X_test)"
   ]
  },
  {
   "cell_type": "code",
   "execution_count": 109,
   "id": "0e5420a3",
   "metadata": {},
   "outputs": [
    {
     "name": "stdout",
     "output_type": "stream",
     "text": [
      "              precision    recall  f1-score   support\n",
      "\n",
      "           0       0.97      0.96      0.97      1844\n",
      "           1       0.96      0.97      0.96      1593\n",
      "\n",
      "    accuracy                           0.96      3437\n",
      "   macro avg       0.96      0.96      0.96      3437\n",
      "weighted avg       0.96      0.96      0.96      3437\n",
      "\n"
     ]
    }
   ],
   "source": [
    "print(classification_report(y_test,y_preds))"
   ]
  },
  {
   "cell_type": "code",
   "execution_count": 110,
   "id": "dc1f5070",
   "metadata": {
    "scrolled": true
   },
   "outputs": [
    {
     "data": {
      "text/plain": [
       "<sklearn.metrics._plot.confusion_matrix.ConfusionMatrixDisplay at 0x1f695e15f10>"
      ]
     },
     "execution_count": 110,
     "metadata": {},
     "output_type": "execute_result"
    },
    {
     "data": {
      "image/png": "[encoded data removed]",
      "text/plain": [
       "<Figure size 432x288 with 2 Axes>"
      ]
     },
     "metadata": {
      "needs_background": "light"
     },
     "output_type": "display_data"
    }
   ],
   "source": [
    "plot_confusion_matrix(pipe,X_test,y_test,display_labels=[\"Fake News\",\"Real News\"])"
   ]
  },
  {
   "cell_type": "markdown",
   "id": "fc9e7abb",
   "metadata": {},
   "source": [
    "### Model_2: Naive Bayes Algorithmn"
   ]
  },
  {
   "cell_type": "code",
   "execution_count": 111,
   "id": "4f1b863e",
   "metadata": {},
   "outputs": [],
   "source": [
    "from sklearn.naive_bayes import MultinomialNB"
   ]
  },
  {
   "cell_type": "code",
   "execution_count": 112,
   "id": "5f60c421",
   "metadata": {},
   "outputs": [],
   "source": [
    "pipe2 = Pipeline([(\"tfidf\",TfidfVectorizer(stop_words=\"english\")),(\"nb\",MultinomialNB())])"
   ]
  },
  {
   "cell_type": "code",
   "execution_count": 113,
   "id": "64c4a695",
   "metadata": {},
   "outputs": [
    {
     "data": {
      "text/plain": [
       "Pipeline(steps=[('tfidf', TfidfVectorizer(stop_words='english')),\n",
       "                ('nb', MultinomialNB())])"
      ]
     },
     "execution_count": 113,
     "metadata": {},
     "output_type": "execute_result"
    }
   ],
   "source": [
    "pipe2.fit(X_train,y_train)"
   ]
  },
  {
   "cell_type": "code",
   "execution_count": 114,
   "id": "8d8aee46",
   "metadata": {},
   "outputs": [],
   "source": [
    "y_preds = pipe2.predict(X_test)"
   ]
  },
  {
   "cell_type": "code",
   "execution_count": 115,
   "id": "26924c74",
   "metadata": {},
   "outputs": [
    {
     "name": "stdout",
     "output_type": "stream",
     "text": [
      "              precision    recall  f1-score   support\n",
      "\n",
      "           0       0.74      1.00      0.85      1844\n",
      "           1       0.99      0.60      0.75      1593\n",
      "\n",
      "    accuracy                           0.81      3437\n",
      "   macro avg       0.87      0.80      0.80      3437\n",
      "weighted avg       0.86      0.81      0.80      3437\n",
      "\n"
     ]
    }
   ],
   "source": [
    "print(classification_report(y_test,y_preds))"
   ]
  },
  {
   "cell_type": "code",
   "execution_count": 116,
   "id": "74382e54",
   "metadata": {},
   "outputs": [
    {
     "data": {
      "text/plain": [
       "<sklearn.metrics._plot.confusion_matrix.ConfusionMatrixDisplay at 0x1f690e3a2e0>"
      ]
     },
     "execution_count": 116,
     "metadata": {},
     "output_type": "execute_result"
    },
    {
     "data": {
      "image/png": "[encoded data removed]",
      "text/plain": [
       "<Figure size 432x288 with 2 Axes>"
      ]
     },
     "metadata": {
      "needs_background": "light"
     },
     "output_type": "display_data"
    }
   ],
   "source": [
    "plot_confusion_matrix(pipe2,X_test,y_test,display_labels=[\"Fake News\",\"Real News\"])"
   ]
  },
  {
   "cell_type": "markdown",
   "id": "0d871757",
   "metadata": {},
   "source": [
    "### Model_3: PassiveAgressive Classifier\n"
   ]
  },
  {
   "cell_type": "code",
   "execution_count": 117,
   "id": "1358f5d0",
   "metadata": {},
   "outputs": [],
   "source": [
    "from sklearn.linear_model import PassiveAggressiveClassifier"
   ]
  },
  {
   "cell_type": "code",
   "execution_count": 118,
   "id": "02bc6ef7",
   "metadata": {},
   "outputs": [],
   "source": [
    "pipe3 = Pipeline([(\"tfidf\",TfidfVectorizer(stop_words=\"english\")),(\"pa\",PassiveAggressiveClassifier())])"
   ]
  },
  {
   "cell_type": "code",
   "execution_count": 119,
   "id": "8152c355",
   "metadata": {},
   "outputs": [
    {
     "data": {
      "text/plain": [
       "Pipeline(steps=[('tfidf', TfidfVectorizer(stop_words='english')),\n",
       "                ('pa', PassiveAggressiveClassifier())])"
      ]
     },
     "execution_count": 119,
     "metadata": {},
     "output_type": "execute_result"
    }
   ],
   "source": [
    "pipe3.fit(X_train,y_train)"
   ]
  },
  {
   "cell_type": "code",
   "execution_count": 120,
   "id": "a10af552",
   "metadata": {},
   "outputs": [],
   "source": [
    "y_preds = pipe3.predict(X_test)"
   ]
  },
  {
   "cell_type": "code",
   "execution_count": 121,
   "id": "df098a6f",
   "metadata": {},
   "outputs": [
    {
     "name": "stdout",
     "output_type": "stream",
     "text": [
      "              precision    recall  f1-score   support\n",
      "\n",
      "           0       0.97      0.96      0.97      1844\n",
      "           1       0.96      0.96      0.96      1593\n",
      "\n",
      "    accuracy                           0.96      3437\n",
      "   macro avg       0.96      0.96      0.96      3437\n",
      "weighted avg       0.96      0.96      0.96      3437\n",
      "\n"
     ]
    }
   ],
   "source": [
    "print(classification_report(y_test,y_preds))"
   ]
  },
  {
   "cell_type": "code",
   "execution_count": 122,
   "id": "11edff32",
   "metadata": {},
   "outputs": [
    {
     "data": {
      "text/plain": [
       "<sklearn.metrics._plot.confusion_matrix.ConfusionMatrixDisplay at 0x1f69c51b940>"
      ]
     },
     "execution_count": 122,
     "metadata": {},
     "output_type": "execute_result"
    },
    {
     "data": {
      "image/png": "[encoded data removed]",
      "text/plain": [
       "<Figure size 432x288 with 2 Axes>"
      ]
     },
     "metadata": {
      "needs_background": "light"
     },
     "output_type": "display_data"
    }
   ],
   "source": [
    "plot_confusion_matrix(pipe3,X_test,y_test,display_labels=[\"Fake News\",\"Real News\"])"
   ]
  },
  {
   "cell_type": "markdown",
   "id": "47badfa9",
   "metadata": {},
   "source": [
    "# Launching the Model"
   ]
  },
  {
   "cell_type": "code",
   "execution_count": 123,
   "id": "6dd2ff05",
   "metadata": {},
   "outputs": [],
   "source": [
    "y = y.map({0:\"Fake News\",1:\"Real News\"})"
   ]
  },
  {
   "cell_type": "code",
   "execution_count": 124,
   "id": "08cb5c94",
   "metadata": {
    "scrolled": true
   },
   "outputs": [
    {
     "data": {
      "text/plain": [
       "Pipeline(steps=[('tfidf', TfidfVectorizer(stop_words='english')),\n",
       "                ('svc', LinearSVC())])"
      ]
     },
     "execution_count": 124,
     "metadata": {},
     "output_type": "execute_result"
    }
   ],
   "source": [
    "pipe.fit(X,y)"
   ]
  },
  {
   "cell_type": "markdown",
   "id": "33229af9",
   "metadata": {},
   "source": [
    "# Testing new text"
   ]
  },
  {
   "cell_type": "code",
   "execution_count": 125,
   "id": "6259c97a",
   "metadata": {},
   "outputs": [
    {
     "data": {
      "text/plain": [
       "array(['Real News'], dtype=object)"
      ]
     },
     "execution_count": 125,
     "metadata": {},
     "output_type": "execute_result"
    }
   ],
   "source": [
    "pipe.predict([\"Donald Trump is the 45th president of the USA\"])"
   ]
  },
  {
   "cell_type": "code",
   "execution_count": 126,
   "id": "c4f4f91f",
   "metadata": {},
   "outputs": [
    {
     "data": {
      "text/plain": [
       "array(['Real News'], dtype=object)"
      ]
     },
     "execution_count": 126,
     "metadata": {},
     "output_type": "execute_result"
    }
   ],
   "source": [
    "pipe.predict([\"Obama was a great president\"])"
   ]
  },
  {
   "cell_type": "code",
   "execution_count": 127,
   "id": "74324508",
   "metadata": {},
   "outputs": [
    {
     "data": {
      "text/plain": [
       "array(['Real News'], dtype=object)"
      ]
     },
     "execution_count": 127,
     "metadata": {},
     "output_type": "execute_result"
    }
   ],
   "source": [
    "pipe.predict([\"Hillary Clinton was a great president\"])"
   ]
  },
  {
   "cell_type": "code",
   "execution_count": null,
   "id": "46c108f8",
   "metadata": {},
   "outputs": [],
   "source": []
  }
 ],
 "metadata": {
  "kernelspec": {
   "display_name": "Python 3 (ipykernel)",
   "language": "python",
   "name": "python3"
  },
  "language_info": {
   "codemirror_mode": {
    "name": "ipython",
    "version": 3
   },
   "file_extension": ".py",
   "mimetype": "text/x-python",
   "name": "python",
   "nbconvert_exporter": "python",
   "pygments_lexer": "ipython3",
   "version": "3.9.7"
  }
 },
 "nbformat": 4,
 "nbformat_minor": 5
}
